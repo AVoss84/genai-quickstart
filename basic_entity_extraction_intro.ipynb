{
 "cells": [
  {
   "cell_type": "markdown",
   "metadata": {},
   "source": [
    "### This little tutorial focuses on the task of entity extraction from a PDF file using OCR + GenAI. The use of LangChain is illustrated as a convenient tool library."
   ]
  },
  {
   "cell_type": "code",
   "execution_count": 89,
   "metadata": {},
   "outputs": [],
   "source": [
    "import os\n",
    "import boto3\n",
    "from my_package.config import global_config as glob\n",
    "# from my_package.config import config as cfg\n",
    "from my_package.utils.utils import s3_health_check \n",
    "\n",
    "#cfg.model_config"
   ]
  },
  {
   "cell_type": "code",
   "execution_count": 2,
   "metadata": {},
   "outputs": [
    {
     "name": "stdout",
     "output_type": "stream",
     "text": [
      "S3 credentials are valid 😀\n"
     ]
    }
   ],
   "source": [
    "s3_health_check()"
   ]
  },
  {
   "cell_type": "markdown",
   "metadata": {},
   "source": [
    "(Optional) Work with PDF locally by downloading it from S3:"
   ]
  },
  {
   "cell_type": "code",
   "execution_count": 3,
   "metadata": {},
   "outputs": [
    {
     "name": "stdout",
     "output_type": "stream",
     "text": [
      "Download successful.\n"
     ]
    }
   ],
   "source": [
    "# The S3 bucket and file name of the PDF\n",
    "bucket_name = 'sagemaker-foundry-610968375774-eu-central-1'\n",
    "object_key = 'firmware-migration-data/raw_documents_from_foundry/'\n",
    "local_filename = '005fed92-d96d-11eb-bd22-030439b8049b.pdf'\n",
    "\n",
    "# Initialize a boto3 client\n",
    "s3 = boto3.client('s3')\n",
    "    \n",
    "# Download the PDF file from S3\n",
    "s3.download_file(Bucket=bucket_name, Key=os.path.join(object_key, local_filename), Filename=os.path.join(glob.UC_DATA_PKG_DIR, local_filename))\n",
    "print(\"Download successful.\")"
   ]
  },
  {
   "cell_type": "markdown",
   "metadata": {},
   "source": [
    "Or using convenience wrapper class:"
   ]
  },
  {
   "cell_type": "code",
   "execution_count": 4,
   "metadata": {},
   "outputs": [
    {
     "name": "stdout",
     "output_type": "stream",
     "text": [
      "\n",
      "S3 client available.\n",
      "Bucket name: sagemaker-foundry-610968375774-eu-central-1\n",
      "File firmware-migration-data/raw_documents_from_foundry/005fed92-d96d-11eb-bd22-030439b8049b.pdf successfully downloaded from sagemaker-foundry-610968375774-eu-central-1 to /Users/mn9lu5b/Library/CloudStorage/OneDrive-Allianz/Github/Team AZ Account/genai-quickstart/src/data/005fed92-d96d-11eb-bd22-030439b8049b.pdf\n"
     ]
    }
   ],
   "source": [
    "from my_package.services import s3_client\n",
    "\n",
    "my_client = s3_client.S3Client()\n",
    "\n",
    "my_client.download_file(key=os.path.join(object_key, local_filename), file_path=os.path.join(glob.UC_DATA_PKG_DIR, local_filename))"
   ]
  },
  {
   "cell_type": "markdown",
   "metadata": {},
   "source": [
    "### 1.) Use Textract to retrieve raw text from single PDF (stored in S3)\n",
    "\n",
    "Check out the textractor package! pip install amazon-textract-textractor"
   ]
  },
  {
   "cell_type": "code",
   "execution_count": 5,
   "metadata": {},
   "outputs": [
    {
     "name": "stdout",
     "output_type": "stream",
     "text": [
      "Started job with id: 04496cb1c0636f9b68fcd2b33fc490a8339997133509b75dae5cc6920f9d89f4\n"
     ]
    }
   ],
   "source": [
    "import os\n",
    "import boto3\n",
    "import time\n",
    "import pandas as pd\n",
    "\n",
    "# Initialize a boto3 client for Textract\n",
    "textract = boto3.client('textract')\n",
    "\n",
    "# Call Amazon Textract\n",
    "response = textract.start_document_text_detection(\n",
    "    DocumentLocation={\n",
    "        'S3Object': {\n",
    "            'Bucket': bucket_name,\n",
    "            'Name': os.path.join(object_key, local_filename)\n",
    "        }\n",
    "    }\n",
    ")\n",
    "\n",
    "# The job ID is needed to get the result\n",
    "job_id = response['JobId']\n",
    "print(f\"Started job with id: {job_id}\")\n",
    "\n",
    "# Check the job status and wait for it to complete\n",
    "status = ''\n",
    "time.sleep(5)  # Wait a few seconds before checking the status\n",
    "while status != 'SUCCEEDED':\n",
    "    result = textract.get_document_text_detection(JobId=job_id)\n",
    "    status = result['JobStatus']\n",
    "    if status == 'FAILED':\n",
    "        raise Exception(\"Textract Job Failed\")\n",
    "    time.sleep(5)  # Wait between checks\n",
    "\n",
    "# Collect lines of raw text in a list\n",
    "lines = []\n",
    "for block in result['Blocks']:\n",
    "    if block['BlockType'] == 'LINE':\n",
    "        #print(block['Text'])\n",
    "        lines.append(block['Text'])\n",
    "\n",
    "df = pd.DataFrame(lines, columns=['Extracted Text:']) "
   ]
  },
  {
   "cell_type": "code",
   "execution_count": 6,
   "metadata": {},
   "outputs": [
    {
     "data": {
      "text/plain": [
       "6673"
      ]
     },
     "execution_count": 6,
     "metadata": {},
     "output_type": "execute_result"
    }
   ],
   "source": [
    "#print(df.head(50))\n",
    "#df.to_csv('extracted_text.csv', index=False)\n",
    "\n",
    "# Concatenate all the text into a single string (only for keeping things simple here)\n",
    "document = df['Extracted Text:'].str.cat(sep=' ')\n",
    "\n",
    "len(document)                  # just checkin for context window size"
   ]
  },
  {
   "cell_type": "code",
   "execution_count": 7,
   "metadata": {},
   "outputs": [
    {
     "name": "stdout",
     "output_type": "stream",
     "text": [
      "Von: Rokosch, Kerstin (Allianz Deutschland) (kerstin.rokosch@allianz.de) Gesendet: Dienstag, 29. Juni 2021 15:24:50 An: Firmen_Sachbetrieb_BG@allianz.de Sachsubstanz-2021-06-28-ISP-02 Swis Life REF German High Street Anlagen: (gültig 2021-01-01).pdf Sachsubstanz-2021-06-28-ISP-02 Swiss Life REF European Retail Fund Germany (gültig 2021-01-01).pdf Betreff: GSV 10/0055/8520220%%Policen unterzeichnet an Makler%% Von: Rokosch, Kerstin (Allianz Deutschland) Gesendet: Dienstag, 29. Juni 2021 15:24 An: 'd.hoff@funk-gruppe.de' <d.hoff@funk-gruppe.de> Betreff: Swiss Life REF European Retail Fund Germany und Swiss Life REF German High Street / Policen zur Unterschrift Liebe Frau Hoff, anbei erhalten Sie die unterzeichneten Policen. Viele Grüße, Kerstin Rokosch Allianz Versicherungs-AG Firmen Sach Fachberatung Individual Gruppe 1 10900 Berlin Mail kerstin.rokosch@allianz.de Tel: 030/53893-33065 Fax: 030/53893-833065 Allianz Versicherungs-Aktiengesellschaft USt-IdNr: DE 811 150 709; für Versicherungsteuerzwecke: VersSt-Nr.: 802/V90802004778. Finanz- und Versicherungsleistungen i.S.d. UStG / MwStSystRL sind von der Umsatzsteuer befreit. Pflichtangaben unter: https://www.allianz.de/impressum/ Von: Hoff, Diana <D.Hoff@funk-gruppe.de> Gesendet: Dienstag, 29. Juni 2021 09:21 An: Rokosch, Kerstin (Allianz Deutschland) <kerstin.rokosch@allianz.de> Betreff: [EXT] Swiss Life REF European Retail Fund Germany und Swiss Life REF German High Street / Policen zur Unterschrift IntReal KVG mbH, handelnd für Rg. d. AIF-Sondervermögens \"Swiss Life REF Kunde: European Retail Fund Germany\", 20095 Hamburg (01 071598 0001 / 71 0000, GSV 10/0055/8520220/220) IntReal KVG mbH, handelnd für Rg. d. AIF-Sondervermögens \"Swiss Life REF Kunde: German High Street\", 20095 Hamburg (01 071598 0000 / 71 - 0000, GSV 10/0055/8520200/220) Liebe Frau Rokosch, anbei erhalten Sie die geänderten Policen zu den o.g. Beständen mit der Bitte, uns diese gegengezeichnet zurück zu senden. Vielen Dank. Mit freundlichen Grüßen i. A. Diana Hoff Abteilung Sach-Versicherungen fon +49 30 250092-821 fax +49 30 250092-22821 mail d.hoff@funk-gruppe.de web funk-gruppe.com Die beste Empfehlung. Funk. Funk Versicherungsmakler GmbH Budapester Str. 31, 10787 Berlin Geschäftsführung: Thomas Abel, Ralf Becker, Christoph Bülk, Dr. Anja Funk-Münchmeyer, Yorck Hillegaart, Claudius Jochheim, Hendrik Löffler, Bernhard Schwanke Sitz: Hamburg (AG Hamburg HRB 53240) Folgen Sie uns auf: Linkedln Twitter Xing | kununu YouTube Wissen per Mausklick Erweitern Sie Ihre Expertise mit unseren kostenfreien Webinaren. Ausgewählte Themen des Versicherungs- und funk Risikomanagements sowie der Vorsorge erwarten Sie. Jetzt informieren Mit unseren Newslettern bleiben Sie auf dem Laufenden. Informationen zum Schutz personenbezogener Daten bei deren Verarbeitung durch die Funk Gruppe GmbH nach Art. 13 und 14 der Europäischen Datenschutz-Grundverordnung finden Sie auf https://www.funk- gruppe.de/de/datenschutz/#c47381. Auf Wunsch übersenden wir diese Informationen auch in Papierform. E-Mail ist nicht sicher. Nachrichten können verfälscht ankommen. Auf Anforderung senden wir Ihnen eine schriftliche Bestätigung. Der Empfänger hat angehängte Dateien vor dem Laden auf Viren zu untersuchen. Diese Nachricht und etwaige Anhänge sind vertraulich. Diese Vertraulichkeit wird nicht dadurch aufgehoben, dass Sie nicht der vorgesehene Empfänger sind. Falls Sie diese Nachricht fälschlich erhalten haben, melden Sie uns das bitte per EMail und löschen diese Nachricht und etwaige Anhänge. E-mail is not secure. It may be corrupted in transmission. On request we will send you a written confirmation. The recipient has to check any attachments for viruses before use. This message and any attachments are confidential. The confidentiality is not waived or lost because this e-mail has been sent to you by mistake. If you have received this e-mail in error, please notify us by e-mail and delete our e-mail and any attachments. funk INDUSTRIELLE SACHVERSICHERUNGS-POLICE (ISP) FUNK-NR. 01 071598 0000/1 71-0000 Versicherungsschein-Nr. GSV 10/0055/8520200/220 Versicherungsnehmer IntReal KVG mbH, handelnd für Rg. d. AIF-Sondervermögens \"Swiss Life REF German High Street\" Ferdinandstr. 61 20095 Hamburg Versicherungsmakler Funk Versicherungsmakler GmbH Versicherer (Führung) Allianz Versicherungs-AG Beteiligte gemäß Verteilungsplan Laufzeit vom 01.01.2020, 12 Uhr bis 01.01.2022, 12 Uhr Version 02 Steed Prämienfälligkeit jährlich im Voraus am 01.01. High General REF Life Suiss 10022 1/20 Funk Internationaler Versicherungsmakler und Risk Consultant funk ISP FUNK-NR. 01 071598 0000/1 71-0000 CHRONOLOGIE DER VERTRAGSÄNDERUNGEN Änderung gültig ab: Deckblatt, Versicherungsnehmer. Änderung Bezeichnung 01.01.2021 Deckblatt, Laufzeit: Vertragsfortschreibung 01.01.2021 Seite 5, A.3: Ausschluss des Objektes Düren (ist nicht mehr von der Verpflichtung zur E-Revision 01.01.2021 ausgenommen) (cofter Street High General REF Life Suiss 202 19151 2 -06 210228 202 - SERVICES OCCURRENCE 2/20 Funk Internationaler Versicherungsmakler und Risk Consultant funk ISP FUNK-NR. 01 071598 0000/1 71-0000 INHALTSVERZEICHNIS A WESENTLICHE VEREINBARUNGEN 4 A.1 Vertragsbestandteile 4 A.2 Versicherungsnehmer 4 A.3 Versicherungsorte 5 A.4 Versicherungsumfang 6 A.4.1 Versicherte Gefahren, Selbstbeteiligungen, Höchstentschädigungen und Jahreshöchstent-schädigungen in der Sach-Versicherung 6 A.4.2 Versicherungsumfang Sach-Versicherung 8 B ZUSÄTZLICHE VEREINBARUNGEN 12 B.1 Sanktionsklausel 12 B.2 Brandschutzanlagen 12 B.3 Schäden durch Terrorakte 13 B.4 Neu- und Rohbauten 14 B.5 Gebäudebeschädigungen durch Einbruchdiebstahl 14 B.6 Einfacher Diebstahl von fest mit dem Gebäude verbundener Sachen 14 B.7 Zusätzliches Gebäudezubehör 14 B.8 Schäden durch Graffiti 14 B.9 Schäden im Zusammenhang mit der Fehlfunktion von Rauch-/Gasmeldern 14 B.10 Ergänzung zu B.4.12B-ISP Medienverlust 14 B.11 Ergänzung zu D.5.1 B-ISP Sonstige Rohre und Anlagen 15 B.12 Rohrverstopfungen 15 B.13 Kosten für Schädlingsbekämpfung 15 B.14 Kosten für die Beseitigung von Gebäudeschäden durch wildlebende Tiere 15 B.15 Haustechnik 15 B.16 Mietverlust 17 B.17 Neu hinzukommende Gebäude/versehentlich nicht gemeldeten Bestand 18 C BETEILIGTE VERSICHERER 20 Street Abkürzungsverzeichnis High B-ISP Bedingungen für die Industrielle Sachversicherungs-Police EA General Ertragsausfall ED Einbruchdiebstahl REF E-Rev. Prüfung der elektrischen Anlagen its HE Höchstentschädigung JHE Jahreshöchstentschädigung komb. kombiniert LW Leitungswasser n. V. nicht versichert 210223 SB Selbstbeteiligung V. vereinbart 3/20 Funk Internationaler Versicherungsmakler und Risk Consultant\n"
     ]
    }
   ],
   "source": [
    "print(document)"
   ]
  },
  {
   "cell_type": "markdown",
   "metadata": {},
   "source": [
    "### 2.) Extract some basic entities from the Textract results using Bedrock"
   ]
  },
  {
   "cell_type": "markdown",
   "metadata": {},
   "source": [
    "Define custome Callback handler:\n",
    "https://python.langchain.com/v0.1/docs/modules/callbacks/"
   ]
  },
  {
   "cell_type": "code",
   "execution_count": 85,
   "metadata": {},
   "outputs": [],
   "source": [
    "from typing import Any\n",
    "from uuid import UUID\n",
    "from langchain.callbacks.base import BaseCallbackHandler\n",
    "# from langchain_core.callbacks import StdOutCallbackHandler\n",
    "from langchain_core.runnables import RunnableConfig\n",
    "from langchain_core.outputs import LLMResult\n",
    "\n",
    "# Implement a callback handler that logs the generated text and the number of tokens used\n",
    "class BedrockHandler(BaseCallbackHandler):\n",
    "\n",
    "    def __init__(self, initial_text=\"\"):\n",
    "        self.text = initial_text\n",
    "        self.input_token_count = 0\n",
    "        self.output_token_count = 0\n",
    "        self.stop_reason = None\n",
    "\n",
    "    def on_llm_new_token(self, token: str, **kwargs):\n",
    "        self.text += token\n",
    "        # do something\n",
    "\n",
    "    def on_llm_end(\n",
    "        self,\n",
    "        response: LLMResult,\n",
    "        *,\n",
    "        run_id: UUID,\n",
    "        parent_run_id: UUID | None = None,\n",
    "        **kwargs: Any,\n",
    "    ) -> Any:\n",
    "        if response.llm_output is not None:\n",
    "            self.input_token_count = response.llm_output.get(\"usage\", {}).get(\"prompt_tokens\", None)\n",
    "            self.output_token_count = response.llm_output.get(\"usage\", {}).get(\"completion_tokens\", None)\n",
    "            self.stop_reason = response.llm_output.get(\"stop_reason\", None)\n",
    "\n",
    "\n",
    "# class MyCustomHandler(BaseCallbackHandler):\n",
    "#     def on_llm_new_token(self, token: str, **kwargs) -> None:\n",
    "#         print(f\"My custom handler, token: {token}\")\n",
    "        "
   ]
  },
  {
   "cell_type": "markdown",
   "metadata": {},
   "source": [
    "Output format: JSON"
   ]
  },
  {
   "cell_type": "code",
   "execution_count": 86,
   "metadata": {},
   "outputs": [],
   "source": [
    "from pydantic import BaseModel, Field\n",
    "from langchain_core.output_parsers import JsonOutputParser\n",
    "\n",
    "class OutputStructure(BaseModel):\n",
    "    \"\"\"\n",
    "    Represents the output structure for customer information.\n",
    "\n",
    "    Attributes:\n",
    "        first_name (str): First name of the customer.\n",
    "        last_name (str): Last name of the customer.\n",
    "        email (str): Email address of the customer.\n",
    "    \"\"\"\n",
    "    first_name: str = Field(description=\"First name of the customer\")\n",
    "    last_name: str = Field(description=\"Last name of the customer\")\n",
    "    email: str = Field(description=\"Email address of the customer\")\n",
    " \n",
    "parser = JsonOutputParser(pydantic_object=OutputStructure)"
   ]
  },
  {
   "cell_type": "code",
   "execution_count": 87,
   "metadata": {},
   "outputs": [
    {
     "name": "stdout",
     "output_type": "stream",
     "text": [
      "{'email': 'D.Hoff@funk-gruppe.de', 'first_name': 'Diana', 'last_name': 'Hoff'}\n"
     ]
    }
   ],
   "source": [
    "from langchain_aws import ChatBedrock\n",
    "from langchain_core.prompts import PromptTemplate\n",
    "# from langchain.chains import LLMChain\n",
    "from pprint import PrettyPrinter\n",
    " \n",
    "# handler1 = StdOutCallbackHandler()     # verbose output\n",
    "handler2 = BedrockHandler()\n",
    "# handler3 = MyCustomHandler()\n",
    "\n",
    "inference_modifier = {\n",
    "    \"max_tokens\": 2000,\n",
    "    \"temperature\": 0.1,\n",
    "}\n",
    "\n",
    "bedrock_runtime = boto3.client(service_name='bedrock-runtime')\n",
    "\n",
    "model = ChatBedrock(\n",
    "        #model_id=\"anthropic.claude-3-haiku-20240307-v1:0\",\n",
    "        model_id=\"anthropic.claude-3-sonnet-20240229-v1:0\",\n",
    "        client=bedrock_runtime,\n",
    "        model_kwargs=inference_modifier\n",
    "    )\n",
    "  \n",
    "template = \"\"\"\n",
    "Following is an insurance contract. Please extract the following information from it: \n",
    "First name of the customer, the last name of the customer and its Email address: {context}.\\n \n",
    "Please the following json output format:\\n{format_instructions}\n",
    "\"\"\"\n",
    " \n",
    "prompt = PromptTemplate(\n",
    "    template=template,\n",
    "    input_variables=[\"context\"],\n",
    "    partial_variables={\"format_instructions\": parser.get_format_instructions()},\n",
    ")\n",
    " \n",
    "chain = prompt | model | parser\n",
    "# chain = LLMChain(llm=model, prompt=prompt, callbacks=[handler2], verbose=False, output_parser=parser)  # alternative way to define chain\n",
    "  \n",
    "# response = chain.invoke({\"context\": document})\n",
    "response = chain.invoke({\"context\": document}, RunnableConfig(callbacks=[handler2]))\n",
    " \n",
    "PrettyPrinter().pprint(response) "
   ]
  },
  {
   "cell_type": "code",
   "execution_count": 88,
   "metadata": {},
   "outputs": [
    {
     "name": "stdout",
     "output_type": "stream",
     "text": [
      "Input token count: 3035\n",
      "Output token count: 46\n"
     ]
    }
   ],
   "source": [
    "# input_token_count = response.response_metadata.get(\"usage\", {}).get(\"prompt_tokens\", 0)\n",
    "# output_token_count = response.response_metadata.get(\"usage\", {}).get(\"completion_tokens\", 0)   # via boto3 response\n",
    "\n",
    "print(\"Input token count:\", handler2.input_token_count)\n",
    "print(\"Output token count:\", handler2.output_token_count)"
   ]
  },
  {
   "cell_type": "code",
   "execution_count": null,
   "metadata": {},
   "outputs": [],
   "source": []
  }
 ],
 "metadata": {
  "kernelspec": {
   "display_name": "quick_start",
   "language": "python",
   "name": "python3"
  },
  "language_info": {
   "codemirror_mode": {
    "name": "ipython",
    "version": 3
   },
   "file_extension": ".py",
   "mimetype": "text/x-python",
   "name": "python",
   "nbconvert_exporter": "python",
   "pygments_lexer": "ipython3",
   "version": "3.12.7"
  }
 },
 "nbformat": 4,
 "nbformat_minor": 2
}
